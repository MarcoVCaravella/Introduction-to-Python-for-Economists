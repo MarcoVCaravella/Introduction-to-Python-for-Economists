{
 "cells": [
  {
   "cell_type": "code",
   "execution_count": 829,
   "id": "8427e62f-35eb-43fa-a115-319379628fd8",
   "metadata": {},
   "outputs": [],
   "source": [
    "import pandas as pd \n",
    "import os\n",
    "import geopandas as gpd \n",
    "import matplotlib.pyplot as plt \n",
    "from shapely.geometry import Point \n",
    "from shapely.geometry import box\n",
    "from matplotlib.colors import Normalize\n",
    "import matplotlib.cm as cm\n",
    "import matplotlib\n",
    "import numpy as np\n",
    "from linearmodels.panel import PanelOLS\n",
    "import statsmodels.api as sm"
   ]
  },
  {
   "cell_type": "code",
   "execution_count": 830,
   "id": "39d0e1e9-a6f4-4efe-8430-0613a3728361",
   "metadata": {},
   "outputs": [
    {
     "name": "stdout",
     "output_type": "stream",
     "text": [
      "   Id                  Name   Latitude  Longitude Country CountryCode  \\\n",
      "0   1                Ågesta  59.206000   18.08290  Sweden          SE   \n",
      "1   2  Akademik Lomonosov-1  69.709579  170.30625  Russia          RU   \n",
      "2   3  Akademik Lomonosov-2  69.709579  170.30625  Russia          RU   \n",
      "3   4              Akhvaz-1        NaN        NaN    Iran          IR   \n",
      "4   5              Akhvaz-2        NaN        NaN    Iran          IR   \n",
      "\n",
      "        Status ReactorType        ReactorModel ConstructionStartAt  \\\n",
      "0     Shutdown        PHWR                 NaN          1957-12-01   \n",
      "1  Operational         PWR  KLT-40S 'Floating'          2007-04-15   \n",
      "2  Operational         PWR  KLT-40S 'Floating'          2007-04-15   \n",
      "3      Planned         NaN                 NaN                 NaN   \n",
      "4      Planned         NaN                 NaN                 NaN   \n",
      "\n",
      "  OperationalFrom OperationalTo  Capacity              LastUpdatedAt  \\\n",
      "0      1964-05-01    1974-06-02       9.0  2015-05-24T04:51:37+03:00   \n",
      "1      2020-05-22           NaN      30.0                 2021-05-31   \n",
      "2      2020-05-22           NaN      30.0                 2021-05-31   \n",
      "3             NaN           NaN       NaN                        NaN   \n",
      "4             NaN           NaN       NaN                        NaN   \n",
      "\n",
      "                 Source  IAEAId  \n",
      "0              WNA/IAEA   528.0  \n",
      "1  WNA/IAEA/Google Maps   895.0  \n",
      "2  WNA/IAEA/Google Maps   896.0  \n",
      "3                   WNA     NaN  \n",
      "4                   WNA     NaN  \n",
      "    Id                  Name   Latitude  Longitude Country CountryCode  \\\n",
      "1    2  Akademik Lomonosov-1  69.709579  170.30625  Russia          RU   \n",
      "2    3  Akademik Lomonosov-2  69.709579  170.30625  Russia          RU   \n",
      "10  11             Almaraz-1  39.807000   -5.69800   Spain          ES   \n",
      "11  12             Almaraz-2  39.807000   -5.69800   Spain          ES   \n",
      "12  13               Angra-1 -23.008000  -44.45700  Brazil          BR   \n",
      "\n",
      "         Status ReactorType        ReactorModel ConstructionStartAt  \\\n",
      "1   Operational         PWR  KLT-40S 'Floating'          2007-04-15   \n",
      "2   Operational         PWR  KLT-40S 'Floating'          2007-04-15   \n",
      "10  Operational         PWR              WH 3LP          1973-07-03   \n",
      "11  Operational         PWR              WH 3LP          1973-07-03   \n",
      "12  Operational         PWR              WH 2LP          1971-05-01   \n",
      "\n",
      "   OperationalFrom OperationalTo  Capacity              LastUpdatedAt  \\\n",
      "1       2020-05-22           NaN      30.0                 2021-05-31   \n",
      "2       2020-05-22           NaN      30.0                 2021-05-31   \n",
      "10      1983-09-01           NaN     900.0  2017-02-10T23:56:15+02:00   \n",
      "11      1984-07-01           NaN     900.0  2019-06-02T20:17:55+03:00   \n",
      "12      1985-01-01           NaN     609.0  2021-02-14T03:47:53+02:00   \n",
      "\n",
      "                  Source  IAEAId  \n",
      "1   WNA/IAEA/Google Maps   895.0  \n",
      "2   WNA/IAEA/Google Maps   896.0  \n",
      "10              WNA/IAEA   153.0  \n",
      "11              WNA/IAEA   154.0  \n",
      "12              WNA/IAEA    24.0  \n"
     ]
    }
   ],
   "source": [
    "# Set the working directory\n",
    "os.chdir('C:/Users/user/Documents/Unibo/Economics and Econometrics/Second Year/First Semester/Introduction to Python for Economists/Project')\n",
    "\n",
    "nuclear_plants = pd.read_csv('nuclear_power_plants.csv') # data from \"https://github.com/cristianst85/GeoNuclearData/blob/master/data/csv/denormalized/nuclear_power_plants.csv\"\n",
    "print(nuclear_plants.head())\n",
    "\n",
    "# Consider only operational nuclear plants\n",
    "operational_nuclear_plants = [\"Operational\"]\n",
    "nuclear_plants = nuclear_plants[nuclear_plants['Status'].isin(operational_nuclear_plants)]\n",
    "print(nuclear_plants.head())"
   ]
  },
  {
   "cell_type": "code",
   "execution_count": 831,
   "id": "a3262861-7419-424d-af7d-ce780979a80c",
   "metadata": {},
   "outputs": [
    {
     "name": "stdout",
     "output_type": "stream",
     "text": [
      "Observations with NA values in 'OperationalFrom':\n",
      "      Id                                    Name   Latitude   Longitude  \\\n",
      "119  121  CEFR (China Experimental Fast Reactor)  39.739000  116.030000   \n",
      "356  358                              Kakrapar-3  21.236000   73.351000   \n",
      "460  462                              Mochovce-3  48.261000   18.455000   \n",
      "623  625                            Shin-Hanul-2  37.083889  129.391667   \n",
      "\n",
      "         Country CountryCode       Status ReactorType ReactorModel  \\\n",
      "119        China          CN  Operational         FBR        BN-20   \n",
      "356        India          IN  Operational        PHWR     PHWR-700   \n",
      "460     Slovakia          SK  Operational         PWR   VVER V-213   \n",
      "623  South Korea          KR  Operational         PWR     APR-1400   \n",
      "\n",
      "    ConstructionStartAt OperationalFrom OperationalTo  Capacity  \\\n",
      "119          2000-05-10             NaN           NaN      20.0   \n",
      "356          2010-11-22             NaN           NaN     630.0   \n",
      "460          1987-01-27             NaN           NaN     440.0   \n",
      "623          2013-06-19             NaN           NaN    1340.0   \n",
      "\n",
      "                 LastUpdatedAt    Source  IAEAId  \n",
      "119                 2021-06-12  WNA/IAEA  1047.0  \n",
      "356  2021-02-14T03:47:53+02:00  WNA/IAEA   986.0  \n",
      "460  2023-08-28T08:01:45+03:00  WNA/IAEA   544.0  \n",
      "623  2024-03-03T20:43:43+02:00      IAEA   888.0  \n",
      "OperationalFrom      1\n",
      "OperationalTo      100\n",
      "dtype: int64\n"
     ]
    }
   ],
   "source": [
    "# Filter rows where \"OperationalFrom\" is NA\n",
    "na_rows = nuclear_plants[nuclear_plants[\"OperationalFrom\"].isna()]\n",
    "\n",
    "print(\"Observations with NA values in 'OperationalFrom':\")\n",
    "print(na_rows)\n",
    "# Mochovce-3 is now under construction. Thus, we will ignore it \n",
    "\n",
    "# Create a vector of EU countries\n",
    "eu_iso2_codes = [\n",
    "    \"AT\", \"BE\", \"BG\", \"HR\", \"CY\",\n",
    "    \"CZ\", \"DK\", \"EE\", \"FI\", \"FR\",\n",
    "    \"DE\", \"GR\", \"HU\", \"IE\", \"IT\",\n",
    "    \"LV\", \"LT\", \"LU\", \"MT\", \"NL\",\n",
    "    \"PL\", \"PT\", \"RO\", \"SK\", \"SI\",\n",
    "    \"ES\", \"SE\"\n",
    "]\n",
    "\n",
    "# Filter for EU countries\n",
    "nuclear_plants = nuclear_plants[nuclear_plants['CountryCode'].isin(eu_iso2_codes)]\n",
    "\n",
    "# Convert the operational and decommission dates to datetime\n",
    "nuclear_plants['OperationalFrom'] = pd.to_datetime(nuclear_plants['OperationalFrom'])\n",
    "nuclear_plants['OperationalTo'] = pd.to_datetime(nuclear_plants['OperationalTo'])\n",
    "\n",
    "# Check for null or missing values in the dates\n",
    "print(nuclear_plants[['OperationalFrom', 'OperationalTo']].isnull().sum())\n",
    "\n",
    "# Drop \n",
    "nuclear_plants.dropna(subset=[\"OperationalFrom\"], inplace=True)"
   ]
  },
  {
   "cell_type": "code",
   "execution_count": 832,
   "id": "5476191c-cc7f-4c27-888e-f45ab5b379b3",
   "metadata": {},
   "outputs": [],
   "source": [
    "# Create a GeoDataFrame for nuclear plants\n",
    "plants_gdf = gpd.GeoDataFrame(\n",
    "    nuclear_plants, geometry=gpd.points_from_xy(nuclear_plants.Longitude, nuclear_plants.Latitude), crs=\"EPSG:4326\"\n",
    ")"
   ]
  },
  {
   "cell_type": "code",
   "execution_count": 833,
   "id": "9a03c916-f2e7-4596-92ab-5d02b1c6a4f6",
   "metadata": {},
   "outputs": [
    {
     "name": "stdout",
     "output_type": "stream",
     "text": [
      "     NUTS_ID  LEVL_CODE CNTR_CODE                            NAME_LATN  \\\n",
      "0      NO0B2          3        NO                             Svalbard   \n",
      "1      NO0B1          3        NO                 Jan Mayen\\r\\n   \\r\\n   \n",
      "2      HR064          3        HR          Krapinsko-zagorska upanija   \n",
      "3      DE21A          3        DE                               Erding   \n",
      "4      DE94E          3        DE                 Osnabrück, Landkreis   \n",
      "...      ...        ...       ...                                  ...   \n",
      "1509   UKM73          3        UK          East Lothian and Midlothian   \n",
      "1510   UKM75          3        UK                   Edinburgh, City of   \n",
      "1511   UKM76          3        UK                              Falkirk   \n",
      "1512   UKM78          3        UK                         West Lothian   \n",
      "1513   UKK24          3        UK  Bournemouth, Christchurch and Poole   \n",
      "\n",
      "                                NUTS_NAME  MOUNT_TYPE  URBN_TYPE  COAST_TYPE  \\\n",
      "0                                Svalbard         3.0        3.0           1   \n",
      "1                    Jan Mayen\\r\\n   \\r\\n         NaN        NaN           1   \n",
      "2             Krapinsko-zagorska upanija         4.0        3.0           3   \n",
      "3                                  Erding         4.0        3.0           3   \n",
      "4                    Osnabrück, Landkreis         4.0        2.0           3   \n",
      "...                                   ...         ...        ...         ...   \n",
      "1509          East Lothian and Midlothian         4.0        1.0           1   \n",
      "1510                   Edinburgh, City of         4.0        1.0           1   \n",
      "1511                              Falkirk         4.0        1.0           1   \n",
      "1512                         West Lothian         4.0        1.0           1   \n",
      "1513  Bournemouth, Christchurch and Poole         4.0        1.0           1   \n",
      "\n",
      "        FID                                           geometry  \n",
      "0     NO0B2  MULTIPOLYGON (((33.09131 80.24908, 33.09929 80...  \n",
      "1     NO0B1  POLYGON ((-7.96242 71.16199, -7.9553 71.15968,...  \n",
      "2     HR064  POLYGON ((16.25128 46.07165, 16.24254 46.0622,...  \n",
      "3     DE21A  POLYGON ((12.01712 48.43068, 12.0221 48.42585,...  \n",
      "4     DE94E  POLYGON ((8.01815 52.68391, 8.03442 52.67338, ...  \n",
      "...     ...                                                ...  \n",
      "1509  UKM73  MULTIPOLYGON (((-2.36662 55.94611, -2.36697 55...  \n",
      "1510  UKM75  MULTIPOLYGON (((-3.07764 55.9469, -3.08167 55....  \n",
      "1511  UKM76  POLYGON ((-3.51572 56.00226, -3.51251 55.99411...  \n",
      "1512  UKM78  POLYGON ((-3.42533 55.99403, -3.42699 55.9905,...  \n",
      "1513  UKK24  POLYGON ((-1.80428 50.79602, -1.8025 50.79206,...  \n",
      "\n",
      "[1514 rows x 10 columns]\n",
      "EPSG:4326\n",
      "Index(['NUTS_ID', 'LEVL_CODE', 'CNTR_CODE', 'NAME_LATN', 'NUTS_NAME',\n",
      "       'MOUNT_TYPE', 'URBN_TYPE', 'COAST_TYPE', 'FID', 'geometry'],\n",
      "      dtype='object')\n"
     ]
    }
   ],
   "source": [
    "# Load the shapefile\n",
    "sp_path = \"NUTS_RG_01M_2021_4326_LEVL_3/NUTS_RG_01M_2021_4326_LEVL_3_repaired.shp\"  \n",
    "eu_map = gpd.read_file(sp_path)\n",
    "\n",
    "# Define the bounding box for continental Europe\n",
    "bounding_box = {\n",
    "    \"minx\": -10,  # Western limit\n",
    "    \"maxx\": 30,   # Eastern limit\n",
    "    \"miny\": 35,   # Southern limit\n",
    "    \"maxy\": 70    # Northern limit\n",
    "}\n",
    "print(eu_map)\n",
    "print(eu_map.crs)\n",
    "print(eu_map.columns)\n",
    "\n",
    "# Filter for EU countries\n",
    "eu_map = eu_map[eu_map['CNTR_CODE'].isin(eu_iso2_codes)]\n",
    "\n",
    "\n",
    "# Create a bounding box as a shapely object\n",
    "bounding_polygon = box(bounding_box[\"minx\"], bounding_box[\"miny\"], bounding_box[\"maxx\"], bounding_box[\"maxy\"])\n",
    "\n",
    "# Clip the map using the bounding box\n",
    "eu_map = eu_map.clip(bounding_polygon)"
   ]
  },
  {
   "cell_type": "code",
   "execution_count": 834,
   "id": "b8cac234-bbe6-4a26-a025-bc2072944638",
   "metadata": {},
   "outputs": [
    {
     "name": "stdout",
     "output_type": "stream",
     "text": [
      "EPSG:4326\n"
     ]
    }
   ],
   "source": [
    "# Create a GeoDataFrame for nuclear plants\n",
    "plants_gdf = gpd.GeoDataFrame(\n",
    "    nuclear_plants, geometry=gpd.points_from_xy(nuclear_plants.Longitude, nuclear_plants.Latitude), crs=\"EPSG:4326\"\n",
    ")\n",
    "print(plants_gdf.crs)"
   ]
  },
  {
   "cell_type": "code",
   "execution_count": 835,
   "id": "18da5ce1-7ea5-4d2c-bc92-6d96c59a05b7",
   "metadata": {},
   "outputs": [
    {
     "name": "stdout",
     "output_type": "stream",
     "text": [
      "     NUTS_ID  LEVL_CODE CNTR_CODE                NAME_LATN  \\\n",
      "0      AT111          3        AT         Mittelburgenland   \n",
      "1      AT112          3        AT           Nordburgenland   \n",
      "2      AT113          3        AT            Südburgenland   \n",
      "3      AT121          3        AT  Mostviertel-Eisenwurzen   \n",
      "4      AT122          3        AT     Niederösterreich-Süd   \n",
      "...      ...        ...       ...                      ...   \n",
      "7688   SK023          3        SK          Nitriansky kraj   \n",
      "7689   SK031          3        SK            ilinský kraj   \n",
      "7690   SK032          3        SK     Banskobystrický kraj   \n",
      "7691   SK041          3        SK           Preovský kraj   \n",
      "7692   SK042          3        SK             Koický kraj   \n",
      "\n",
      "                    NUTS_NAME  MOUNT_TYPE  URBN_TYPE  COAST_TYPE    FID  \\\n",
      "0            Mittelburgenland         4.0        3.0           3  AT111   \n",
      "1              Nordburgenland         4.0        3.0           3  AT112   \n",
      "2               Südburgenland         4.0        3.0           3  AT113   \n",
      "3     Mostviertel-Eisenwurzen         2.0        3.0           3  AT121   \n",
      "4        Niederösterreich-Süd         3.0        2.0           3  AT122   \n",
      "...                       ...         ...        ...         ...    ...   \n",
      "7688          Nitriansky kraj         4.0        2.0           3  SK023   \n",
      "7689            ilinský kraj         3.0        2.0           3  SK031   \n",
      "7690     Banskobystrický kraj         3.0        3.0           3  SK032   \n",
      "7691           Preovský kraj         3.0        3.0           3  SK041   \n",
      "7692             Koický kraj         2.0        2.0           3  SK042   \n",
      "\n",
      "                                               geometry  ...   2016    2017   \\\n",
      "0     POLYGON ((16.63552 47.44531, 16.62806 47.44207...  ...  24500   26500    \n",
      "1     POLYGON ((17.13656 47.9951, 17.09466 47.97087,...  ...  31500   32400    \n",
      "2     POLYGON ((16.44414 47.34632, 16.44847 47.33988...  ...  25700   27000    \n",
      "3     POLYGON ((15.51229 48.3102, 15.52049 48.31099,...  ...  31700   33900    \n",
      "4     POLYGON ((15.93363 48.07037, 15.94567 48.06833...  ...  29500   30800    \n",
      "...                                                 ...  ...     ...     ...   \n",
      "7688  POLYGON ((18.48865 48.54371, 18.49339 48.53502...  ...     62      60    \n",
      "7689  POLYGON ((19.47421 49.60408, 19.46944 49.5964,...  ...     64      61    \n",
      "7690  POLYGON ((19.99554 48.90483, 20.01669 48.90102...  ...     52      51    \n",
      "7691  POLYGON ((21.40376 49.43197, 21.40906 49.42539...  ...     44      42    \n",
      "7692  MULTIPOLYGON (((22.37915 48.83927, 22.37678 48...  ...     57      59    \n",
      "\n",
      "       2018    2019    2020    2021  2022  freq               unit    geo  \n",
      "0     26600   27000   27000   28300     :     A            EUR_HAB  AT111  \n",
      "1     33300   34200   33100   34800     :     A            EUR_HAB  AT112  \n",
      "2     27700   28400   27000   28700     :     A            EUR_HAB  AT113  \n",
      "3     34400   35600   34100   35600     :     A            EUR_HAB  AT121  \n",
      "4     32100   33100   31500   32600     :     A            EUR_HAB  AT122  \n",
      "...      ...     ...     ...     ...   ...  ...                ...    ...  \n",
      "7688     57      60      64      61   59 e    A  PPS_HAB_EU27_2020  SK023  \n",
      "7689     60      63      65      64   64 e    A  PPS_HAB_EU27_2020  SK031  \n",
      "7690     51      51      53      56   57 e    A  PPS_HAB_EU27_2020  SK032  \n",
      "7691     45      43      45      45   44 e    A  PPS_HAB_EU27_2020  SK041  \n",
      "7692     57      56      61      62   60 e    A  PPS_HAB_EU27_2020  SK042  \n",
      "\n",
      "[7693 rows x 36 columns]\n"
     ]
    }
   ],
   "source": [
    "# Load the file into a pandas DataFrame\n",
    "gdp = pd.read_csv(\"estat_nama_10r_3gdp.tsv.gz\", sep=\"\\t\", compression=\"gzip\")\n",
    "\n",
    "# Split the combined column into separate columns\n",
    "gdp_split = gdp['freq,unit,geo\\\\TIME_PERIOD'].str.split(',', expand=True)\n",
    "\n",
    "# Assign meaningful names to the new columns\n",
    "gdp_split.columns = ['freq', 'unit', 'geo']\n",
    "\n",
    "# Merge the split columns back into the original DataFrame\n",
    "gdp = pd.concat([gdp, gdp_split], axis=1)\n",
    "\n",
    "# Drop the original combined column (optional)\n",
    "gdp.drop(columns=['freq,unit,geo\\\\TIME_PERIOD'], inplace=True)\n",
    "\n",
    "# Filter the dataset to include only rows where \"geo\" starts with an allowed prefix\n",
    "# gdp_filtered = gdp[gdp['geo'].str[:2].isin(eu_iso2_codes)] NON SERVE PER VIA DELLA RIGA SUCCESSIVA CHE SOSTITUISCE QUESTA RIGA\n",
    "\n",
    "# Step 1: Filter 'gdp' to keep only relevant rows\n",
    "relevant_gdp = gdp[gdp['geo'].isin(eu_map['NUTS_ID'])]\n",
    "\n",
    "# Step 2: Merge the filtered 'gdp' with 'eu_map'\n",
    "merged = eu_map.merge(relevant_gdp, left_on=\"NUTS_ID\", right_on=\"geo\", how=\"right\")\n",
    "\n",
    "print(merged)"
   ]
  },
  {
   "cell_type": "code",
   "execution_count": 836,
   "id": "bc89f231-2d04-4586-8059-48867d6e5b68",
   "metadata": {},
   "outputs": [
    {
     "name": "stdout",
     "output_type": "stream",
     "text": [
      "NUTS_ID         object\n",
      "LEVL_CODE        int32\n",
      "CNTR_CODE       object\n",
      "NAME_LATN       object\n",
      "NUTS_NAME       object\n",
      "MOUNT_TYPE     float64\n",
      "URBN_TYPE      float64\n",
      "COAST_TYPE       int32\n",
      "FID             object\n",
      "geometry      geometry\n",
      "2000            object\n",
      "2001            object\n",
      "2002            object\n",
      "2003            object\n",
      "2004            object\n",
      "2005            object\n",
      "2006            object\n",
      "2007            object\n",
      "2008            object\n",
      "2009            object\n",
      "2010            object\n",
      "2011            object\n",
      "2012            object\n",
      "2013            object\n",
      "2014           float64\n",
      "2015            object\n",
      "2016            object\n",
      "2017            object\n",
      "2018            object\n",
      "2019            object\n",
      "2020            object\n",
      "2021            object\n",
      "2022            object\n",
      "freq            object\n",
      "unit            object\n",
      "geo             object\n",
      "dtype: object\n"
     ]
    }
   ],
   "source": [
    "print(merged.dtypes)"
   ]
  },
  {
   "cell_type": "code",
   "execution_count": 837,
   "id": "3d89ce47-e572-4fcb-9f61-68fc95b03808",
   "metadata": {},
   "outputs": [
    {
     "name": "stdout",
     "output_type": "stream",
     "text": [
      "0\n"
     ]
    }
   ],
   "source": [
    "years = [\"2000\", \"2001\", \"2002\",\"2003\",\"2004\",\"2005\",\"2006\",\"2007\",\"2008\",\"2009\",\"2010\",\"2011\",\"2012\",\"2013\",\"2014\",\"2015\",\n",
    "        \"2016\", \"2017\", \"2018\",\"2019\",\"2020\",\"2021\",\"2022\",]  # List of year columns as strings\n",
    "\n",
    "# Strip any leading or trailing whitespace from column names\n",
    "merged.columns = merged.columns.str.strip()\n",
    "\n",
    "# Filters the years list to include only those that exist as column names in the merged DataFrame.\n",
    "years = [year for year in years if year in merged.columns]\n",
    "\n",
    "for year in years:\n",
    "    # Clean non-numeric characters and spaces\n",
    "    merged[year] = merged[year].astype(str).str.strip()\n",
    "    merged[year] = merged[year].str.replace(r\"[^\\d.]\", \"\", regex=True)  # Keep only numbers and decimal points\n",
    "    \n",
    "    # Convert to numeric and fill missing values with 0 (or another default value if preferred)\n",
    "    merged[year] = pd.to_numeric(merged[year], errors=\"coerce\").fillna(0)\n",
    "\n",
    "merged_long = pd.melt(\n",
    "    merged,\n",
    "    id_vars=[\"NUTS_ID\", \"geometry\", \"geo\"],  # Keep these as identifiers\n",
    "    value_vars=years,                # Only melt the year columns\n",
    "    var_name=\"year\",          # Column for years\n",
    "    value_name=\"GDP\"                 # Column for GDP values\n",
    ")\n",
    "\n",
    "# Check for missing values\n",
    "print(merged_long['GDP'].isna().sum())"
   ]
  },
  {
   "cell_type": "markdown",
   "id": "39e6e02b-2c61-4690-bdc0-1b9a1dfdd37f",
   "metadata": {},
   "source": [
    "We now use FE method to analyse whether there is a correlation between the presence of Nuclear Plants and GDB and other economic variables. The analysis will be performed locally, that is, withing NUTS3 regions of EU.\n",
    "First, we create a dateset for the analysis. We \"fix\" up the \"nuclear_plants\" dataset before merging it with \"merged_long\":"
   ]
  },
  {
   "cell_type": "code",
   "execution_count": 839,
   "id": "3c6b3bed-3874-4bff-8ad6-a09492aa13e7",
   "metadata": {},
   "outputs": [
    {
     "name": "stdout",
     "output_type": "stream",
     "text": [
      "Index(['Id', 'Name', 'Latitude', 'Longitude', 'Country', 'CountryCode',\n",
      "       'Status', 'ReactorType', 'ReactorModel', 'ConstructionStartAt',\n",
      "       'OperationalFrom', 'OperationalTo', 'Capacity', 'LastUpdatedAt',\n",
      "       'Source', 'IAEAId'],\n",
      "      dtype='object')\n"
     ]
    }
   ],
   "source": [
    "# Create a function to check operational status\n",
    "def is_operational(row, year):\n",
    "    return (row['OperationalFrom'].year <= year) and (pd.isnull(row['OperationalTo']) or row['OperationalTo'].year >= year)\n",
    "\n",
    "# Generalize: Create a binary variable for each year in the GDP dataset\n",
    "years = range(2000, 2021)  # Adjust the range based on your GDP dataset\n",
    "for year in years:\n",
    "    plants_gdf[f'is_operational_{year}'] = plants_gdf.apply(lambda row: is_operational(row, year), axis=1)\n",
    "\n",
    "print(nuclear_plants.columns)"
   ]
  },
  {
   "cell_type": "code",
   "execution_count": 840,
   "id": "697e83ae-9793-4567-a04a-5badfea3ad29",
   "metadata": {},
   "outputs": [],
   "source": [
    "# Perform spatial join to map nuclear plants to NUTS3 regions\n",
    "new_nuclear_plants = gpd.sjoin(plants_gdf, eu_map, how=\"left\", predicate=\"within\")"
   ]
  },
  {
   "cell_type": "code",
   "execution_count": 841,
   "id": "7e75e1ec-6de6-41be-8af0-a6c5d0ee2b64",
   "metadata": {},
   "outputs": [
    {
     "name": "stdout",
     "output_type": "stream",
     "text": [
      "      Id          Name  Latitude  Longitude Country CountryCode       Status  \\\n",
      "10    11     Almaraz-1    39.807     -5.698   Spain          ES  Operational   \n",
      "11    12     Almaraz-2    39.807     -5.698   Spain          ES  Operational   \n",
      "21    22        Asco-1    41.202      0.571   Spain          ES  Operational   \n",
      "22    23        Asco-2    41.202      0.571   Spain          ES  Operational   \n",
      "43    44  Belleville-1    47.511      2.871  France          FR  Operational   \n",
      "..   ...           ...       ...        ...     ...         ...          ...   \n",
      "704  707   Tricastin-2    44.330      4.733  France          FR  Operational   \n",
      "705  708   Tricastin-3    44.331      4.733  France          FR  Operational   \n",
      "706  709   Tricastin-4    44.331      4.733  France          FR  Operational   \n",
      "707  710      Trillo-1    40.699     -2.622   Spain          ES  Operational   \n",
      "717  727   Vandellos-2    40.949      0.867   Spain          ES  Operational   \n",
      "\n",
      "    ReactorType ReactorModel ConstructionStartAt  ... index_right NUTS_ID  \\\n",
      "10          PWR       WH 3LP          1973-07-03  ...       461.0   ES432   \n",
      "11          PWR       WH 3LP          1973-07-03  ...       461.0   ES432   \n",
      "21          PWR       WH 3LP          1974-05-16  ...       348.0   ES514   \n",
      "22          PWR       WH 3LP          1975-03-07  ...       348.0   ES514   \n",
      "43          PWR  P4 REP 1300          1980-05-01  ...       884.0   FRB01   \n",
      "..          ...          ...                 ...  ...         ...     ...   \n",
      "704         PWR          CP1          1974-12-01  ...       769.0   FRK23   \n",
      "705         PWR          CP1          1975-04-01  ...       769.0   FRK23   \n",
      "706         PWR          CP1          1975-05-01  ...       769.0   FRK23   \n",
      "707         PWR  PWR 3 loops          1979-08-17  ...       474.0   ES424   \n",
      "717         PWR       WH 3LP          1980-12-29  ...       348.0   ES514   \n",
      "\n",
      "     LEVL_CODE CNTR_CODE    NAME_LATN    NUTS_NAME MOUNT_TYPE  URBN_TYPE  \\\n",
      "10         3.0        ES      Cáceres      Cáceres        4.0        2.0   \n",
      "11         3.0        ES      Cáceres      Cáceres        4.0        2.0   \n",
      "21         3.0        ES    Tarragona    Tarragona        2.0        2.0   \n",
      "22         3.0        ES    Tarragona    Tarragona        2.0        2.0   \n",
      "43         3.0        FR         Cher         Cher        4.0        3.0   \n",
      "..         ...       ...          ...          ...        ...        ...   \n",
      "704        3.0        FR        Drôme        Drôme        2.0        3.0   \n",
      "705        3.0        FR        Drôme        Drôme        2.0        3.0   \n",
      "706        3.0        FR        Drôme        Drôme        2.0        3.0   \n",
      "707        3.0        ES  Guadalajara  Guadalajara        3.0        2.0   \n",
      "717        3.0        ES    Tarragona    Tarragona        2.0        2.0   \n",
      "\n",
      "     COAST_TYPE    FID  \n",
      "10          3.0  ES432  \n",
      "11          3.0  ES432  \n",
      "21          1.0  ES514  \n",
      "22          1.0  ES514  \n",
      "43          3.0  FRB01  \n",
      "..          ...    ...  \n",
      "704         3.0  FRK23  \n",
      "705         3.0  FRK23  \n",
      "706         3.0  FRK23  \n",
      "707         3.0  ES424  \n",
      "717         1.0  ES514  \n",
      "\n",
      "[99 rows x 48 columns]\n"
     ]
    }
   ],
   "source": [
    "print(new_nuclear_plants)"
   ]
  },
  {
   "cell_type": "code",
   "execution_count": 842,
   "id": "a63101d4-6050-4a8b-9094-3e712c0e8069",
   "metadata": {},
   "outputs": [],
   "source": [
    "# Reshape the operational data to long format for merging\n",
    "operational_long = new_nuclear_plants.melt(\n",
    "    id_vars=['NUTS_ID'],  # Replace with the column identifying the region\n",
    "    value_vars=[f'is_operational_{year}' for year in years],\n",
    "    var_name='year',\n",
    "    value_name='plant_operational'\n",
    ")\n",
    "\n",
    "# Extract year as an integer from the column name\n",
    "operational_long['year'] = operational_long['year'].str.extract(r'(\\d+)').astype(int)\n",
    "\n",
    "# Convert the 'year' column to integers in both DataFrames\n",
    "merged_long['year'] = merged_long['year'].astype(int)\n",
    "\n",
    "# Merge with the GDP dataset\n",
    "merged_long = pd.merge(merged_long, operational_long, on=['NUTS_ID', 'year'], how='left')\n",
    "\n",
    "# Fill missing values in the plant_operational column with 0 (no plant in operation)\n",
    "merged_long['plant_operational'] = merged_long['plant_operational'].fillna(0).astype(int)\n"
   ]
  },
  {
   "cell_type": "code",
   "execution_count": 843,
   "id": "f35aa9ce-69f1-461c-9ea8-34626db157a5",
   "metadata": {},
   "outputs": [
    {
     "name": "stdout",
     "output_type": "stream",
     "text": [
      "  NUTS_ID                                           geometry    geo  year  \\\n",
      "0   AT111  POLYGON ((16.63552 47.44531, 16.62806 47.44207...  AT111  2000   \n",
      "1   AT112  POLYGON ((17.13656 47.9951, 17.09466 47.97087,...  AT112  2000   \n",
      "2   AT113  POLYGON ((16.44414 47.34632, 16.44847 47.33988...  AT113  2000   \n",
      "3   AT121  POLYGON ((15.51229 48.3102, 15.52049 48.31099,...  AT121  2000   \n",
      "4   AT122  POLYGON ((15.93363 48.07037, 15.94567 48.06833...  AT122  2000   \n",
      "\n",
      "       GDP  plant_operational  \n",
      "0  15700.0                  0  \n",
      "1  19200.0                  0  \n",
      "2  15500.0                  0  \n",
      "3  20400.0                  0  \n",
      "4  19000.0                  0  \n",
      "plant_operational\n",
      "0    171612\n",
      "1     14294\n",
      "Name: count, dtype: int64\n"
     ]
    }
   ],
   "source": [
    "print(merged_long.head())\n",
    "print(merged_long['plant_operational'].value_counts())"
   ]
  },
  {
   "cell_type": "code",
   "execution_count": 844,
   "id": "d924dce9-33aa-4fb3-ad9f-c7c793d45678",
   "metadata": {},
   "outputs": [
    {
     "name": "stdout",
     "output_type": "stream",
     "text": [
      "       NUTS_ID                                           geometry    geo  \\\n",
      "47       BE236  POLYGON ((4.2858 51.12382, 4.27471 51.12244, 4...  BE236   \n",
      "48       BE236  POLYGON ((4.2858 51.12382, 4.27471 51.12244, 4...  BE236   \n",
      "49       BE236  POLYGON ((4.2858 51.12382, 4.27471 51.12244, 4...  BE236   \n",
      "68       BE331  POLYGON ((5.34677 50.62804, 5.33852 50.62249, ...  BE331   \n",
      "69       BE331  POLYGON ((5.34677 50.62804, 5.33852 50.62249, ...  BE331   \n",
      "...        ...                                                ...    ...   \n",
      "170503   SI036  POLYGON ((15.15649 46.09123, 15.17178 46.08348...  SI036   \n",
      "170511   SK021  POLYGON ((17.39873 48.80834, 17.39127 48.80054...  SK021   \n",
      "170512   SK021  POLYGON ((17.39873 48.80834, 17.39127 48.80054...  SK021   \n",
      "170514   SK023  POLYGON ((18.48865 48.54371, 18.49339 48.53502...  SK023   \n",
      "170515   SK023  POLYGON ((18.48865 48.54371, 18.49339 48.53502...  SK023   \n",
      "\n",
      "        year   GDP  plant_operational  \n",
      "47      2000   0.0                  1  \n",
      "48      2000   0.0                  1  \n",
      "49      2000   0.0                  1  \n",
      "68      2000   0.0                  1  \n",
      "69      2000   0.0                  1  \n",
      "...      ...   ...                ...  \n",
      "170503  2020  78.0                  1  \n",
      "170511  2020  82.0                  1  \n",
      "170512  2020  82.0                  1  \n",
      "170514  2020  64.0                  1  \n",
      "170515  2020  64.0                  1  \n",
      "\n",
      "[14294 rows x 6 columns]\n"
     ]
    }
   ],
   "source": [
    "# Filter observations where plant_operational is 1\n",
    "operational_plants = merged_long[merged_long['plant_operational'] == 1]\n",
    "\n",
    "# Display the filtered observations\n",
    "print(operational_plants)"
   ]
  },
  {
   "cell_type": "markdown",
   "id": "e00392be-6e43-41fd-b4fc-f445d7535988",
   "metadata": {},
   "source": [
    "We now create a year dummy that will be included in the regression later"
   ]
  },
  {
   "cell_type": "code",
   "execution_count": 846,
   "id": "0ab1673a-1d93-48e6-bb03-3f754d119cac",
   "metadata": {},
   "outputs": [],
   "source": [
    "# Create a categorical year variable for fixed effects\n",
    "merged_long['year_category'] = merged_long['year'].astype('category')"
   ]
  },
  {
   "cell_type": "markdown",
   "id": "9a5dc851-dc99-4ed4-85cf-c6a0ba276049",
   "metadata": {},
   "source": [
    "We now define Fixed Effects for NUTS3 regions"
   ]
  },
  {
   "cell_type": "code",
   "execution_count": 848,
   "id": "f7e50345-66a4-43ea-a8b1-157402e3161c",
   "metadata": {},
   "outputs": [],
   "source": [
    "# Convert region identifier to a categorical variable\n",
    "merged_long['region'] = merged_long['NUTS_ID'].astype('category')"
   ]
  },
  {
   "cell_type": "markdown",
   "id": "924a8805-82b0-4a48-958d-ff75d47ec58e",
   "metadata": {},
   "source": [
    "Add Macroeconomic Control Variables, like population, employment , or investments"
   ]
  },
  {
   "cell_type": "code",
   "execution_count": 850,
   "id": "b8824da6-b587-49d3-945a-fc4502f7a7d5",
   "metadata": {},
   "outputs": [
    {
     "name": "stdout",
     "output_type": "stream",
     "text": [
      "Index(['freq,unit,sex,age,geo\\TIME_PERIOD', '1990 ', '1991 ', '1992 ', '1993 ',\n",
      "       '1994 ', '1995 ', '1996 ', '1997 ', '1998 ', '1999 ', '2000 ', '2001 ',\n",
      "       '2002 ', '2003 ', '2004 ', '2005 ', '2006 ', '2007 ', '2008 ', '2009 ',\n",
      "       '2010 ', '2011 ', '2012 ', '2013 ', '2014 ', '2015 ', '2016 ', '2017 ',\n",
      "       '2018 ', '2019 ', '2020 ', '2021 ', '2022 ', '2023 '],\n",
      "      dtype='object')\n",
      "Index(['freq,unit,wstatus,nace_r2,geo\\TIME_PERIOD', '1995 ', '1996 ', '1997 ',\n",
      "       '1998 ', '1999 ', '2000 ', '2001 ', '2002 ', '2003 ', '2004 ', '2005 ',\n",
      "       '2006 ', '2007 ', '2008 ', '2009 ', '2010 ', '2011 ', '2012 ', '2013 ',\n",
      "       '2014 ', '2015 ', '2016 ', '2017 ', '2018 ', '2019 ', '2020 ', '2021 ',\n",
      "       '2022 '],\n",
      "      dtype='object')\n"
     ]
    }
   ],
   "source": [
    "# Load population by NUTS3 regions\n",
    "pop = pd.read_csv(\"estat_demo_r_pjanaggr3.tsv.gz\", sep=\"\\t\", compression=\"gzip\")\n",
    "\n",
    "# Load employment by NUTS3 regions\n",
    "emp = pd.read_csv(\"estat_nama_10r_3empers.tsv.gz\", sep=\"\\t\", compression=\"gzip\")\n",
    "\n",
    "print(pop.columns)\n",
    "print(emp.columns)"
   ]
  },
  {
   "cell_type": "code",
   "execution_count": 851,
   "id": "75c89443-8113-4601-9226-b33409274b66",
   "metadata": {},
   "outputs": [
    {
     "name": "stdout",
     "output_type": "stream",
     "text": [
      "Index(['1990 ', '1991 ', '1992 ', '1993 ', '1994 ', '1995 ', '1996 ', '1997 ',\n",
      "       '1998 ', '1999 ', '2000 ', '2001 ', '2002 ', '2003 ', '2004 ', '2005 ',\n",
      "       '2006 ', '2007 ', '2008 ', '2009 ', '2010 ', '2011 ', '2012 ', '2013 ',\n",
      "       '2014 ', '2015 ', '2016 ', '2017 ', '2018 ', '2019 ', '2020 ', '2021 ',\n",
      "       '2022 ', '2023 ', 'freq', 'unit', 'sex', 'age', 'geo'],\n",
      "      dtype='object')\n",
      "Index(['1995 ', '1996 ', '1997 ', '1998 ', '1999 ', '2000 ', '2001 ', '2002 ',\n",
      "       '2003 ', '2004 ', '2005 ', '2006 ', '2007 ', '2008 ', '2009 ', '2010 ',\n",
      "       '2011 ', '2012 ', '2013 ', '2014 ', '2015 ', '2016 ', '2017 ', '2018 ',\n",
      "       '2019 ', '2020 ', '2021 ', '2022 ', 'freq', 'unit', 'wstatus',\n",
      "       'nace_r2', 'geo'],\n",
      "      dtype='object')\n"
     ]
    }
   ],
   "source": [
    "# Split the combined column into separate columns\n",
    "pop_split = pop['freq,unit,sex,age,geo\\\\TIME_PERIOD'].str.split(',', expand=True)\n",
    "emp_split = emp['freq,unit,wstatus,nace_r2,geo\\\\TIME_PERIOD'].str.split(',', expand=True)\n",
    "\n",
    "# Assign meaningful names to the new columns\n",
    "pop_split.columns = ['freq', 'unit', \"sex\", \"age\", 'geo']\n",
    "emp_split.columns = ['freq', 'unit', 'wstatus', 'nace_r2', 'geo']\n",
    "\n",
    "# Merge the split columns back into the original DataFrame\n",
    "pop = pd.concat([pop, pop_split], axis=1)\n",
    "emp = pd.concat([emp, emp_split], axis=1)\n",
    "\n",
    "# Drop the original combined column (optional)\n",
    "pop.drop(columns=['freq,unit,sex,age,geo\\\\TIME_PERIOD'], inplace=True)\n",
    "emp.drop(columns=['freq,unit,wstatus,nace_r2,geo\\\\TIME_PERIOD'], inplace=True)\n",
    "\n",
    "# Step 1: Filter 'gdp' to keep only relevant rows\n",
    "pop = pop[pop['geo'].isin(eu_map['NUTS_ID'])]\n",
    "emp = emp[emp['geo'].isin(eu_map['NUTS_ID'])]\n",
    "\n",
    "print(pop.columns)\n",
    "print(emp.columns)"
   ]
  },
  {
   "cell_type": "code",
   "execution_count": 852,
   "id": "1b780417-a04b-4f1c-8eec-0dc7f7b9bfa7",
   "metadata": {},
   "outputs": [
    {
     "name": "stdout",
     "output_type": "stream",
     "text": [
      "Index(['1990', '1991', '1992', '1993', '1994', '1995', '1996', '1997', '1998',\n",
      "       '1999', '2000', '2001', '2002', '2003', '2004', '2005', '2006', '2007',\n",
      "       '2008', '2009', '2010', '2011', '2012', '2013', '2014', '2015', '2016',\n",
      "       '2017', '2018', '2019', '2020', '2021', '2022', '2023', 'freq', 'unit',\n",
      "       'sex', 'age', 'geo'],\n",
      "      dtype='object')\n",
      "Index(['1995', '1996', '1997', '1998', '1999', '2000', '2001', '2002', '2003',\n",
      "       '2004', '2005', '2006', '2007', '2008', '2009', '2010', '2011', '2012',\n",
      "       '2013', '2014', '2015', '2016', '2017', '2018', '2019', '2020', '2021',\n",
      "       '2022', 'freq', 'unit', 'wstatus', 'nace_r2', 'geo'],\n",
      "      dtype='object')\n"
     ]
    }
   ],
   "source": [
    "# Strip leading/trailing spaces from all column names\n",
    "pop.columns = pop.columns.str.strip()\n",
    "emp.columns = emp.columns.str.strip()\n",
    "print(pop.columns)\n",
    "print(emp.columns)"
   ]
  },
  {
   "cell_type": "code",
   "execution_count": 883,
   "id": "8c2d1c79-f0d5-4836-ad4c-b62fc901ad4f",
   "metadata": {},
   "outputs": [
    {
     "name": "stdout",
     "output_type": "stream",
     "text": [
      "      1990 1991 1992 1993 1994 1995 1996 1997 1998 1999  ...    2019    2020  \\\n",
      "23      :    :    :    :    :    :    :    :    :    :   ...   19095   18996   \n",
      "24      :    :    :    :    :    :    :    :    :    :   ...   81095   81719   \n",
      "25      :    :    :    :    :    :    :    :    :    :   ...   49297   49382   \n",
      "27      :    :    :    :    :    :    :    :    :    :   ...  123629  123908   \n",
      "28      :    :    :    :    :    :    :    :    :    :   ...  132416  132909   \n",
      "...    ...  ...  ...  ...  ...  ...  ...  ...  ...  ...  ...     ...     ...   \n",
      "30870   :    :    :    :    :    :    :    :    :    :   ...   92576   92778   \n",
      "30872   :    :    :    :    :    :    :    :    :    :   ...  108714  109268   \n",
      "30873   :    :    :    :    :    :    :    :    :    :   ...   95281   94797   \n",
      "30875   :    :    :    :    :    :    :    :    :    :   ...  148230  148614   \n",
      "30876   :    :    :    :    :    :    :    :    :    :   ...  137737  137722   \n",
      "\n",
      "         2021     2022     2023 freq unit sex     age    geo  \n",
      "23      19047   19074    19182     A   NR   F   TOTAL  AT111  \n",
      "24      82290   83093    84396     A   NR   F   TOTAL  AT112  \n",
      "25      49387   49390    50159     A   NR   F   TOTAL  AT113  \n",
      "27     124025  124208   125311     A   NR   F   TOTAL  AT121  \n",
      "28     133460  134023   135892     A   NR   F   TOTAL  AT122  \n",
      "...       ...      ...      ...  ...  ...  ..     ...    ...  \n",
      "30870   92840   93791    93654     A   NR   T  Y_LT15  SK023  \n",
      "30872  109661  110449   110475     A   NR   T  Y_LT15  SK031  \n",
      "30873   94453   93348    92780     A   NR   T  Y_LT15  SK032  \n",
      "30875  149036  148424   149050     A   NR   T  Y_LT15  SK041  \n",
      "30876  137656  137263   136920     A   NR   T  Y_LT15  SK042  \n",
      "\n",
      "[16485 rows x 39 columns]\n"
     ]
    }
   ],
   "source": [
    "print(pop)"
   ]
  },
  {
   "cell_type": "code",
   "execution_count": 885,
   "id": "932b18d7-3f7a-47f7-b385-40f2ed2d3daa",
   "metadata": {},
   "outputs": [],
   "source": [
    "years = [\"2000\", \"2001\", \"2002\",\"2003\",\"2004\",\"2005\",\"2006\",\"2007\",\"2008\",\"2009\",\"2010\",\"2011\",\"2012\",\"2013\",\"2014\",\"2015\",\n",
    "        \"2016\", \"2017\", \"2018\",\"2019\",\"2020\",\"2021\",\"2022\",]\n",
    "# Filters the years list to include only those that exist as column names in the merged DataFrame.\n",
    "#years = [year for year in years if year in pop.columns]\n",
    "years = [str(year) for year in range(2000, 2022)]\n",
    "\n",
    "for year in years:\n",
    "    # Clean non-numeric characters and spaces\n",
    "    pop[year] = pop[year].astype(str).str.strip()\n",
    "    pop[year] = pop[year].str.replace(r\"[^\\d.]\", \"\", regex=True)  # Keep only numbers and decimal points\n",
    "    # Convert to numeric and fill missing values with 0 (or another default value if preferred)\n",
    "    #pop[year] = pd.to_numeric(pop[year], errors=\"coerce\").fillna(0)"
   ]
  },
  {
   "cell_type": "code",
   "execution_count": 823,
   "id": "995e48c8-bc95-4831-86af-dd22a7cf2835",
   "metadata": {
    "scrolled": true
   },
   "outputs": [],
   "source": [
    "# Strip leading/trailing spaces from all column name\n",
    "years = [str(year) for year in range(2000, 2022)]\n",
    "\n",
    "for year in years:\n",
    "    # Clean non-numeric characters and spaces\n",
    "    pop[year] = pop[year].astype(str).str.strip()\n",
    "    pop[year] = pop[year].str.replace(r\"[^\\d.]\", \"\", regex=True)  # Keep only numbers and decimal points\n",
    "    # Convert to numeric and fill missing values with 0 (or another default value if preferred)\n",
    "    pop[year] = pd.to_numeric(pop[year], errors=\"coerce\").fillna(0)\n",
    "    \n",
    "# Reshape the operational data to long format for merging\n",
    "operational_long = pop.melt(\n",
    "    id_vars=['geo'],  # Replace with the column identifying the region\n",
    "    value_vars=year,\n",
    "    var_name='year',\n",
    "    value_name='population'\n",
    ")\n",
    "# Convert the 'year' column to integers \n",
    "operational_long['year'] = operational_long['year'].astype(int)\n",
    "\n",
    "# Merge with the GDP dataset\n",
    "merged_long = pd.merge(merged_long, operational_long, on=['geo', 'year'], how='left')\n",
    "\n",
    "# Fill missing values in the plant_operational column with 0 (no plant in operation)\n",
    "# merged_long['population'] = merged_long['population'].fillna(0).astype(int)"
   ]
  },
  {
   "cell_type": "code",
   "execution_count": 827,
   "id": "7ea5c0e4-41fe-4f5f-86c0-3b1371004a02",
   "metadata": {},
   "outputs": [
    {
     "name": "stdout",
     "output_type": "stream",
     "text": [
      "         geo  year  population\n",
      "0      AT111  2021       19047\n",
      "1      AT112  2021       82290\n",
      "2      AT113  2021       49387\n",
      "3      AT121  2021      124025\n",
      "4      AT122  2021      133460\n",
      "...      ...   ...         ...\n",
      "16480  SK023  2021       92840\n",
      "16481  SK031  2021      109661\n",
      "16482  SK032  2021       94453\n",
      "16483  SK041  2021      149036\n",
      "16484  SK042  2021      137656\n",
      "\n",
      "[16485 rows x 3 columns]\n",
      "         NUTS_ID                                           geometry    geo  \\\n",
      "0          AT111  POLYGON ((16.63552 47.44531, 16.62806 47.44207...  AT111   \n",
      "1          AT112  POLYGON ((17.13656 47.9951, 17.09466 47.97087,...  AT112   \n",
      "2          AT113  POLYGON ((16.44414 47.34632, 16.44847 47.33988...  AT113   \n",
      "3          AT121  POLYGON ((15.51229 48.3102, 15.52049 48.31099,...  AT121   \n",
      "4          AT122  POLYGON ((15.93363 48.07037, 15.94567 48.06833...  AT122   \n",
      "...          ...                                                ...    ...   \n",
      "26142083   SK023  POLYGON ((18.48865 48.54371, 18.49339 48.53502...  SK023   \n",
      "26142084   SK031  POLYGON ((19.47421 49.60408, 19.46944 49.5964,...  SK031   \n",
      "26142085   SK032  POLYGON ((19.99554 48.90483, 20.01669 48.90102...  SK032   \n",
      "26142086   SK041  POLYGON ((21.40376 49.43197, 21.40906 49.42539...  SK041   \n",
      "26142087   SK042  MULTIPOLYGON (((22.37915 48.83927, 22.37678 48...  SK042   \n",
      "\n",
      "          year      GDP  plant_operational year_category region  population_x  \\\n",
      "0         2000  15700.0                  0          2000  AT111           NaN   \n",
      "1         2000  19200.0                  0          2000  AT112           NaN   \n",
      "2         2000  15500.0                  0          2000  AT113           NaN   \n",
      "3         2000  20400.0                  0          2000  AT121           NaN   \n",
      "4         2000  19000.0                  0          2000  AT122           NaN   \n",
      "...        ...      ...                ...           ...    ...           ...   \n",
      "26142083  2022     59.0                  0          2022  SK023           NaN   \n",
      "26142084  2022     64.0                  0          2022  SK031           NaN   \n",
      "26142085  2022     57.0                  0          2022  SK032           NaN   \n",
      "26142086  2022     44.0                  0          2022  SK041           NaN   \n",
      "26142087  2022     60.0                  0          2022  SK042           NaN   \n",
      "\n",
      "          population_y  population  \n",
      "0                  NaN         NaN  \n",
      "1                  NaN         NaN  \n",
      "2                  NaN         NaN  \n",
      "3                  NaN         NaN  \n",
      "4                  NaN         NaN  \n",
      "...                ...         ...  \n",
      "26142083           NaN         NaN  \n",
      "26142084           NaN         NaN  \n",
      "26142085           NaN         NaN  \n",
      "26142086           NaN         NaN  \n",
      "26142087           NaN         NaN  \n",
      "\n",
      "[26142088 rows x 11 columns]\n"
     ]
    }
   ],
   "source": [
    "print(operational_long)\n",
    "print(merged_long)"
   ]
  },
  {
   "cell_type": "markdown",
   "id": "2a75c29e-ac14-4c0f-b4e7-ad9d6e91ad1f",
   "metadata": {},
   "source": [
    "Assume 1 year lagged gdp"
   ]
  },
  {
   "cell_type": "code",
   "execution_count": 118,
   "id": "832d0128-5435-4896-94cd-3855092b69f7",
   "metadata": {},
   "outputs": [
    {
     "name": "stdout",
     "output_type": "stream",
     "text": [
      "1099\n"
     ]
    }
   ],
   "source": [
    "# Create a lagged GDP variable\n",
    "merged_long['gdp_lag'] = merged_long.groupby('NUTS_ID')['GDP'].shift(1)\n",
    "\n",
    "# Ensure no missing values in the lagged variable\n",
    "print(merged_long['gdp_lag'].isnull().sum())"
   ]
  },
  {
   "cell_type": "markdown",
   "id": "70abf1c2-11a8-42f5-af11-92fe82049c8c",
   "metadata": {},
   "source": [
    "The final dataset used for the FE regression is:"
   ]
  },
  {
   "cell_type": "code",
   "execution_count": 122,
   "id": "c3c25756-441f-48e9-966e-28fcd4be4609",
   "metadata": {},
   "outputs": [
    {
     "name": "stdout",
     "output_type": "stream",
     "text": [
      "NUTS_ID                 0\n",
      "geometry                0\n",
      "year                    0\n",
      "GDP                     0\n",
      "plant_operational       0\n",
      "year_category           0\n",
      "region                  0\n",
      "gdp_lag              1099\n",
      "dtype: int64\n",
      "                year           GDP  plant_operational       gdp_lag\n",
      "count  185906.000000  1.859060e+05      185906.000000  1.848070e+05\n",
      "mean     2010.951766  1.643165e+04           0.076888  1.652931e+04\n",
      "std         6.610025  1.573107e+05           0.266415  1.577727e+05\n",
      "min      2000.000000  0.000000e+00           0.000000  0.000000e+00\n",
      "25%      2005.000000  1.180000e+02           0.000000  1.200000e+02\n",
      "50%      2011.000000  4.797680e+03           0.000000  4.874310e+03\n",
      "75%      2017.000000  1.850000e+04           0.000000  1.862057e+04\n",
      "max      2022.000000  2.422996e+07           1.000000  2.422996e+07\n"
     ]
    }
   ],
   "source": [
    "# Check for missing values\n",
    "print(merged_long.isnull().sum())\n",
    "\n",
    "# Display a summary of the dataset\n",
    "print(merged_long.describe())"
   ]
  },
  {
   "cell_type": "markdown",
   "id": "c28b7b20-31e7-439c-9675-69a39961ceee",
   "metadata": {},
   "source": [
    "We now perform a FE regression"
   ]
  },
  {
   "cell_type": "code",
   "execution_count": 126,
   "id": "52ac2381-d6eb-4529-9623-b202f3afc4fd",
   "metadata": {},
   "outputs": [
    {
     "name": "stderr",
     "output_type": "stream",
     "text": [
      "C:\\Users\\user\\anaconda3\\Lib\\site-packages\\linearmodels\\panel\\model.py:1260: MissingValueWarning: \n",
      "Inputs contain missing values. Dropping rows with missing observations.\n",
      "  super().__init__(dependent, exog, weights=weights, check_rank=check_rank)\n"
     ]
    }
   ],
   "source": [
    "# Ensure the dataset is indexed by region and year\n",
    "merged_long = merged_long.set_index(['NUTS_ID', 'year'])\n",
    "\n",
    "# Define the dependent variable (GDP) and independent variables\n",
    "dependent = merged_long['GDP']\n",
    "independent_vars = merged_long[['plant_operational', 'gdp_lag']]\n",
    "\n",
    "# Add a constant term (optional, depends on the model setup)\n",
    "independent_vars = sm.add_constant(independent_vars)\n",
    "\n",
    "# Define the model\n",
    "model = PanelOLS(dependent, independent_vars, entity_effects=True, time_effects=True)"
   ]
  },
  {
   "cell_type": "code",
   "execution_count": 128,
   "id": "90d36ad6-acb6-457d-a130-4ae34735e89b",
   "metadata": {},
   "outputs": [
    {
     "name": "stdout",
     "output_type": "stream",
     "text": [
      "                          PanelOLS Estimation Summary                           \n",
      "================================================================================\n",
      "Dep. Variable:                    GDP   R-squared:                        0.0169\n",
      "Estimator:                   PanelOLS   R-squared (Between):             -0.2765\n",
      "No. Observations:              184807   R-squared (Within):               0.0167\n",
      "Date:                Fri, Jan 17 2025   R-squared (Overall):             -0.0199\n",
      "Time:                        15:34:31   Log-likelihood                 -2.46e+06\n",
      "Cov. Estimator:            Unadjusted                                           \n",
      "                                        F-statistic:                      1574.6\n",
      "Entities:                        1099   P-value                           0.0000\n",
      "Avg Obs:                       168.16   Distribution:                F(2,183684)\n",
      "Min Obs:                       160.00                                           \n",
      "Max Obs:                       895.00   F-statistic (robust):             1574.6\n",
      "                                        P-value                           0.0000\n",
      "Time periods:                      23   Distribution:                F(2,183684)\n",
      "Avg Obs:                       8035.1                                           \n",
      "Min Obs:                       7021.0                                           \n",
      "Max Obs:                       8120.0                                           \n",
      "                                                                                \n",
      "                                 Parameter Estimates                                 \n",
      "=====================================================================================\n",
      "                   Parameter  Std. Err.     T-stat    P-value    Lower CI    Upper CI\n",
      "-------------------------------------------------------------------------------------\n",
      "const              1.834e+04     587.46     31.210     0.0000   1.718e+04   1.949e+04\n",
      "plant_operational     3057.7     6177.3     0.4950     0.6206     -9049.7   1.517e+04\n",
      "gdp_lag              -0.1298     0.0023    -56.116     0.0000     -0.1344     -0.1253\n",
      "=====================================================================================\n",
      "\n",
      "F-test for Poolability: 26.703\n",
      "P-value: 0.0000\n",
      "Distribution: F(1120,183684)\n",
      "\n",
      "Included effects: Entity, Time\n"
     ]
    }
   ],
   "source": [
    "# Fit the model\n",
    "fe_results = model.fit()\n",
    "\n",
    "# Display the summary of results\n",
    "print(fe_results.summary)"
   ]
  },
  {
   "cell_type": "code",
   "execution_count": null,
   "id": "2c7d281c-9e45-4a1f-b473-26e87e5a9492",
   "metadata": {},
   "outputs": [],
   "source": []
  }
 ],
 "metadata": {
  "kernelspec": {
   "display_name": "Python 3 (ipykernel)",
   "language": "python",
   "name": "python3"
  },
  "language_info": {
   "codemirror_mode": {
    "name": "ipython",
    "version": 3
   },
   "file_extension": ".py",
   "mimetype": "text/x-python",
   "name": "python",
   "nbconvert_exporter": "python",
   "pygments_lexer": "ipython3",
   "version": "3.12.4"
  }
 },
 "nbformat": 4,
 "nbformat_minor": 5
}
